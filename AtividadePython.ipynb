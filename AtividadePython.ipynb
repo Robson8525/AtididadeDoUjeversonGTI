{
 "cells": [
  {
   "cell_type": "code",
   "execution_count": 28,
   "id": "40dfe2ad-e3fb-4f35-914c-f2c8875c77b1",
   "metadata": {},
   "outputs": [
    {
     "name": "stdin",
     "output_type": "stream",
     "text": [
      "Quantas horas se permaneceu no estacionamento? 10\n"
     ]
    },
    {
     "name": "stdout",
     "output_type": "stream",
     "text": [
      "Valor total a pagar é: R$ 53\n"
     ]
    }
   ],
   "source": [
    "horas = int(input(\"Quantas horas se permaneceu no estacionamento?\"))\n",
    "if horas == 1:\n",
    "    preco = 8\n",
    "else:\n",
    "    preco = 8 + (horas - 1) * 5\n",
    "print(\"Valor total a pagar é: R$\", preco)"
   ]
  },
  {
   "cell_type": "code",
   "execution_count": 29,
   "id": "8bd5dd64-db0d-44e2-988e-a751492353b1",
   "metadata": {},
   "outputs": [
    {
     "name": "stdin",
     "output_type": "stream",
     "text": [
      "Quantas horas se permaneceu no estacionamento? 50\n"
     ]
    },
    {
     "name": "stdout",
     "output_type": "stream",
     "text": [
      "Valor total a pagar é: R$ 255\n"
     ]
    }
   ],
   "source": [
    "horas = int(input(\"Quantas horas se permaneceu no estacionamento?\"))\n",
    "if horas == 1:\n",
    "    preco = 10\n",
    "else:\n",
    "    preco = 10 + (horas - 1) * 5\n",
    "print(\"Valor total a pagar é: R$\", preco)"
   ]
  },
  {
   "cell_type": "code",
   "execution_count": 30,
   "id": "7b9e7a17-7ea1-4552-82de-ed3a56236789",
   "metadata": {},
   "outputs": [
    {
     "name": "stdin",
     "output_type": "stream",
     "text": [
      "Digite a quantidade de camiseta:  45\n"
     ]
    },
    {
     "name": "stdout",
     "output_type": "stream",
     "text": [
      "O custo total é de: R$ 425\n"
     ]
    }
   ],
   "source": [
    "camisetas = int(input(\"Digite a quantidade de camiseta: \"))\n",
    "custo = 200 + (5 * camisetas)\n",
    "print(\"O custo total é de: R$\", custo)"
   ]
  },
  {
   "cell_type": "code",
   "execution_count": null,
   "id": "a5e21e34-31be-4f70-af20-c775a2421e6c",
   "metadata": {},
   "outputs": [],
   "source": [
    "camisetas = int(input(\"Digite a quantidade de camiseta: \"))\n",
    "custo = 150 + (5 * camisetas)\n",
    "print(\"O custo total é de: R$\", custo)"
   ]
  },
  {
   "cell_type": "code",
   "execution_count": null,
   "id": "7708768e-d6f1-4124-ae3e-5acc7a0fbaca",
   "metadata": {},
   "outputs": [],
   "source": [
    "tempo = int(input(\"Quantos tempo você correu (em minutos):\"))\n",
    "calorias = 10 * tempo\n",
    "print(\"Você gastou um total de: \" , calorias , \" calorias\")"
   ]
  },
  {
   "cell_type": "code",
   "execution_count": null,
   "id": "b1142f76-a4b4-4401-96bc-0ffe19f97caa",
   "metadata": {},
   "outputs": [],
   "source": [
    "tempo = int(input(\"Quantos tempo você correu (em minutos):\"))\n",
    "calorias = 12 * tempo\n",
    "print(\"Você gastou um total de: \" , calorias , \" calorias\")"
   ]
  },
  {
   "cell_type": "code",
   "execution_count": null,
   "id": "173d3895-5e7a-4e6e-a9de-7418de438793",
   "metadata": {},
   "outputs": [],
   "source": [
    "horas = int(input(\"Por quantas horas a bicicleta ficou alugada?\"))\n",
    "if horas == 1:\n",
    "    total = 12\n",
    "else:\n",
    "    total = 12 + (horas - 1) * 7\n",
    "print(\"O valor total no peródo em que a bicicleta foi usada é de: \", total , \"R$\")"
   ]
  },
  {
   "cell_type": "code",
   "execution_count": null,
   "id": "5bd8734c-ae52-4cdd-a25b-08c9a0c1c8c3",
   "metadata": {},
   "outputs": [],
   "source": [
    "horas = int(input(\"Por quantas horas a bicicleta ficou alugada?\"))\n",
    "if horas == 1:\n",
    "    total = 10\n",
    "else:\n",
    "    total = 10 + (horas - 1) * 7\n",
    "print(\"O valor total no peródo em que a bicicleta foi usada é de: \", total , \"R$\")"
   ]
  },
  {
   "cell_type": "code",
   "execution_count": null,
   "id": "c09b891c-036a-4429-8a60-09700f631f42",
   "metadata": {},
   "outputs": [],
   "source": [
    "quantidade = int(input(\"Quantos ingressos você quer comprar?\"))\n",
    "if quantidade == 1:\n",
    "        preco_unitario = 20\n",
    "elif quantidade <= 6:\n",
    "    preco_unitario = 20 - 2 * (quantidade - 1)\n",
    "else: \n",
    "    preco_unitario = 10\n",
    "    total = preco_unitario * quantidade\n",
    "print(\"O valor total é de: \", total , \"R$\")"
   ]
  },
  {
   "cell_type": "code",
   "execution_count": null,
   "id": "82fee456-c6a1-46ab-921d-ec68f8ad8f18",
   "metadata": {},
   "outputs": [],
   "source": [
    "quantidade = int(input(\"Quantos ingressos você quer comprar?\"))\n",
    "if quantidade == 1:\n",
    "        preco_unitario = 20\n",
    "elif quantidade <= 6:\n",
    "    preco_unitario = 20 - 3 * (quantidade - 1)\n",
    "else: \n",
    "    preco_unitario = 10\n",
    "    total = preco_unitario * quantidade\n",
    "print(\"O valor total é de: \", total , \"R$\")"
   ]
  },
  {
   "cell_type": "markdown",
   "id": "890d343c-a0c5-4bbe-b7aa-705da896e771",
   "metadata": {},
   "source": [
    "### Situação 01:"
   ]
  },
  {
   "cell_type": "code",
   "execution_count": null,
   "id": "3f1ebd12-b246-4840-94a0-025edcba6494",
   "metadata": {},
   "outputs": [],
   "source": [
    "pecas = int(input(\"Quantas peças deseja lavar?\"))\n",
    "if pecas == 1:\n",
    "    preco = 15\n",
    "else:\n",
    "    preco = 15 + (pecas - 1) * 3.5\n",
    "print(\"Valor total a pagar é: R$\", preco)"
   ]
  },
  {
   "cell_type": "code",
   "execution_count": null,
   "id": "aeacb737-3a6c-47ff-8913-64ad8ba794b9",
   "metadata": {},
   "outputs": [],
   "source": [
    "valor = int(input(\"Quanto você quer gastar?\"))\n",
    "if valor == 15:\n",
    "    pecas = 1\n",
    "elif valor <= 14:\n",
    "    pecas = (\"Inexistente\")\n",
    "else: pecas = (valor - 15) / 3.5\n",
    "print(\"A quantidade de peças que vão ser lavadas é: \", pecas , \"Peças\")\n"
   ]
  },
  {
   "cell_type": "markdown",
   "id": "64bfc161-efcd-4efd-954c-2c45d1ea77c0",
   "metadata": {},
   "source": [
    "### Situação 02"
   ]
  },
  {
   "cell_type": "code",
   "execution_count": null,
   "id": "3e5a6a2e-0a3e-4476-8520-02824abe0790",
   "metadata": {},
   "outputs": [],
   "source": [
    "operadora = int(input(\"Quantos Gigas você quer usar? (acima de 10 terá uma taxa de 2,00R$)\"))\n",
    "if operadora <= 10:\n",
    "    quantidade = 30\n",
    "else: quantidade = ( operadora * 2 ) + 30\n",
    "print (\"O valor que vai ser pago é de: \", quantidade , \"R$\")"
   ]
  },
  {
   "cell_type": "markdown",
   "id": "4973700c-6541-47ad-8fd6-83229c52db58",
   "metadata": {},
   "source": [
    "### Situação 03"
   ]
  },
  {
   "cell_type": "code",
   "execution_count": 4,
   "id": "8ba6d21f-3a77-4f0a-aea0-5de9764ae328",
   "metadata": {},
   "outputs": [
    {
     "name": "stdin",
     "output_type": "stream",
     "text": [
      "Quantos doces você vai querer:  15\n"
     ]
    },
    {
     "name": "stdout",
     "output_type": "stream",
     "text": [
      "O total que terá que ser pago é: 90 R$\n",
      "O lucro vai ser de: 40 R$\n"
     ]
    }
   ],
   "source": [
    "# – Um confeiteiro vende doces a R$ 6,00 cada. Ele gasta R$ 50,00 por semana com ingredientes.\n",
    "#a) Monte a expressão que representa o lucro semanal em função da quantidade de doces vendidos.\n",
    "#b) Quantos doces ele precisa vender para não ter prejuízo?\n",
    "#c) Qual será seu lucro se vender 15, 25 e 40 doces?\n",
    "\n",
    "vendas = int(input(\"Quantos doces você vai querer: \"))\n",
    "doces = vendas * 6\n",
    "lucro = vendas * 6 - 50\n",
    "print(\"O total que terá que ser pago é:\", doces , \"R$\")\n",
    "print(\"O lucro vai ser de:\", lucro , \"R$\")"
   ]
  },
  {
   "cell_type": "markdown",
   "id": "6b4260ab-2310-44a5-a9f5-c40de8562377",
   "metadata": {},
   "source": [
    "### Situação 04"
   ]
  },
  {
   "cell_type": "code",
   "execution_count": 31,
   "id": "cdeffe07-3236-479b-aae7-df55414213af",
   "metadata": {},
   "outputs": [
    {
     "name": "stdin",
     "output_type": "stream",
     "text": [
      "Quantos graus está hoje:  2\n"
     ]
    },
    {
     "name": "stdout",
     "output_type": "stream",
     "text": [
      "A quantidade de litros que você vai ter que tomar hoje é de:  -7.2 Lt\n"
     ]
    }
   ],
   "source": [
    "#Em uma pesquisa, observou-se que a cada 1 grau Celsius a mais na temperatura, uma pessoa\n",
    "#consome em média 0,4 litros de água a mais por dia, tomando como base 2 litros a 25°C.\n",
    "#a) Qual a expressão que define o consumo diário C(t) em função da temperatura t?\n",
    "#b) Qual o consumo médio em dias com 30°C, 33°C e 35°C?\n",
    "#c) Qual a temperatura em um dia em que uma pessoa consumiu 3,2 litros de água?\n",
    "\n",
    "Temperatura = int(input(\"Quantos graus está hoje: \"))\n",
    "litros = 2 + (Temperatura * 0.4) - 10\n",
    "print(\"A quantidade de litros que você vai ter que tomar hoje é de: \" , litros , \"Lt\")"
   ]
  },
  {
   "cell_type": "markdown",
   "id": "8aec30fd-d3e9-4e87-9b5e-54ade424796e",
   "metadata": {},
   "source": [
    "### Situação 5"
   ]
  },
  {
   "cell_type": "code",
   "execution_count": 25,
   "id": "85b0863c-3c24-4caf-bef9-e5f2cab51c15",
   "metadata": {},
   "outputs": [
    {
     "name": "stdin",
     "output_type": "stream",
     "text": [
      "Quantas horas você quer que fique ligado as luzes:  6\n",
      "Quantas lampadas você quer que fique ligadas:  8\n",
      "Quantos dias você quer que fique ligado as luzes:  30\n"
     ]
    },
    {
     "name": "stdout",
     "output_type": "stream",
     "text": [
      "A sua economia vai ser de:  1440 kwh\n"
     ]
    }
   ],
   "source": [
    "#– Trocar uma lâmpada fluorescente por uma de LED reduz o consumo em 0,06 kWh por hora de uso. Uma casa trocou 8 lâmpadas.\n",
    "#a) Monte a função que relaciona a economia total E(h) com as horas de uso diário das lâmpadas.\n",
    "#b) Quanto será economizado após 5 horas, 12 horas e 24 horas de uso diário?\n",
    "#c) Em um mês com 30 dias, quanto será economizado se as lâmpadas forem usadas 6h por dia?\n",
    "\n",
    "horas = int(input(\"Quantas horas você quer que fique ligado as luzes: \"))\n",
    "lampadas = int(input(\"Quantas lampadas você quer que fique ligadas: \"))\n",
    "dias = int(input(\"Quantos dias você quer que fique ligado as luzes: \"))\n",
    "iluminacao = horas * lampadas * dias\n",
    "consumo = iluminacao \n",
    "print(\"A sua economia vai ser de: \", iluminacao , \"kwh\")"
   ]
  },
  {
   "cell_type": "code",
   "execution_count": null,
   "id": "93fa0892-4eee-4047-a51f-ca4df93336ae",
   "metadata": {},
   "outputs": [],
   "source": []
  }
 ],
 "metadata": {
  "kernelspec": {
   "display_name": "Python 3 (ipykernel)",
   "language": "python",
   "name": "python3"
  },
  "language_info": {
   "codemirror_mode": {
    "name": "ipython",
    "version": 3
   },
   "file_extension": ".py",
   "mimetype": "text/x-python",
   "name": "python",
   "nbconvert_exporter": "python",
   "pygments_lexer": "ipython3",
   "version": "3.13.2"
  }
 },
 "nbformat": 4,
 "nbformat_minor": 5
}
