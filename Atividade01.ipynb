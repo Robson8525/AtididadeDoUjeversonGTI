{
 "cells": [
  {
   "cell_type": "code",
   "execution_count": 1,
   "id": "d97ee453-a04e-4370-9871-3cb21956aa47",
   "metadata": {},
   "outputs": [
    {
     "name": "stdout",
     "output_type": "stream",
     "text": [
      "<class 'str'>\n"
     ]
    }
   ],
   "source": [
    "print(type(\"Python\"))"
   ]
  },
  {
   "cell_type": "code",
   "execution_count": 1,
   "id": "ce2f2d48-8655-442b-8dbc-d83d787e74ce",
   "metadata": {
    "scrolled": true
   },
   "outputs": [
    {
     "name": "stdout",
     "output_type": "stream",
     "text": [
      "Fala mano, Weberson Vocé tem quantos anos? 18\n"
     ]
    }
   ],
   "source": [
    "nome = input(\"Nome\")\n",
    "idade = input(\"Idade\")\n",
    "print (\"Fala mano, \" + nome + \" Vocé tem quantos anos? \" + idade)"
   ]
  },
  {
   "cell_type": "code",
   "execution_count": 1,
   "id": "73070c0c-ef5e-4476-97e2-ca60cca2dff1",
   "metadata": {},
   "outputs": [
    {
     "name": "stdout",
     "output_type": "stream",
     "text": [
      "Digite seu número:  17\n",
      "Digite mais um:  09\n"
     ]
    },
    {
     "name": "stdout",
     "output_type": "stream",
     "text": [
      "Soma 26.0\n",
      "Subtração 8.0\n",
      "Multiplicação 153.0\n",
      "Divisão 1.8888888888888888\n"
     ]
    }
   ],
   "source": [
    "num1 = float(input(\"Digite seu número: \"))\n",
    "num2 = float(input(\"Digite mais um: \"))\n",
    "soma = num1 + num2\n",
    "subtração = num1 - num2\n",
    "multiplicação = num1 * num2\n",
    "divisão = num1 / num2\n",
    "print(\"Soma\", soma)\n",
    "print(\"Subtração\", subtração)\n",
    "print(\"Multiplicação\", multiplicação)\n",
    "print(\"Divisão\", divisão)"
   ]
  },
  {
   "cell_type": "code",
   "execution_count": 12,
   "id": "79510c48-bcc2-4131-b616-88bb8c68a907",
   "metadata": {},
   "outputs": [
    {
     "ename": "SyntaxError",
     "evalue": "invalid syntax (3890242803.py, line 19)",
     "output_type": "error",
     "traceback": [
      "  \u001b[36mCell\u001b[39m\u001b[36m \u001b[39m\u001b[32mIn[12]\u001b[39m\u001b[32m, line 19\u001b[39m\n\u001b[31m    \u001b[39m\u001b[31melse:\u001b[39m\n    ^\n\u001b[31mSyntaxError\u001b[39m\u001b[31m:\u001b[39m invalid syntax\n"
     ]
    }
   ],
   "source": [
    "num1 = float(input(\"Digite seu número, porra: \"))\n",
    "num2 = float(input(\"Digite mais um, carai: \"))\n",
    "\n",
    "print(\"Escolha a operação: +, -, *, /\")\n",
    "operação = input(\"Digite a operação desejada: \")\n",
    "\n",
    "if operação == \"+\":\n",
    "    resultado = num1 + num2\n",
    "elif operação == \"-\":\n",
    "    resultado = num1 - num2\n",
    "elif operação == \"*\":\n",
    "    resultado = num1 * num2\n",
    "elif operação == \"/\":\n",
    "    resultado = num1 / num2\n",
    "    if num2 == 0:\n",
    "        resultado = \"Errou carai, tem como por zero não.\"\n",
    "else:\n",
    "        resultado = num1 / num2\n",
    "else:\n",
    "    resultado = \"Operação não validou!\"\n",
    "print(\"Resultado:\", resultado)"
   ]
  },
  {
   "cell_type": "markdown",
   "id": "c61645a4-c074-4e0b-a508-decbe7eff14c",
   "metadata": {},
   "source": [
    "## "
   ]
  }
 ],
 "metadata": {
  "kernelspec": {
   "display_name": "Python 3",
   "language": "python",
   "name": "python3"
  },
  "language_info": {
   "codemirror_mode": {
    "name": "ipython",
    "version": 3
   },
   "file_extension": ".py",
   "mimetype": "text/x-python",
   "name": "python",
   "nbconvert_exporter": "python",
   "pygments_lexer": "ipython3",
   "version": "3.13.2"
  }
 },
 "nbformat": 4,
 "nbformat_minor": 5
}
