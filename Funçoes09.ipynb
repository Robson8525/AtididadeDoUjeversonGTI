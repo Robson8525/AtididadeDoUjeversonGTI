{
 "cells": [
  {
   "cell_type": "markdown",
   "id": "0ebaf14b",
   "metadata": {},
   "source": [
    "# Funções em Python\n"
   ]
  },
  {
   "cell_type": "code",
   "execution_count": 7,
   "id": "3e136e5f",
   "metadata": {},
   "outputs": [
    {
     "name": "stdout",
     "output_type": "stream",
     "text": [
      "Weberson Antonio\n"
     ]
    }
   ],
   "source": [
    "def nome_sobrenome(Pnome, Unome):\n",
    "    print(Pnome + \" \" + Unome)\n",
    "nome_sobrenome(\"Weberson\", \"Antonio\")\n",
    "    "
   ]
  },
  {
   "cell_type": "code",
   "execution_count": 8,
   "id": "454391f8",
   "metadata": {},
   "outputs": [
    {
     "ename": "TypeError",
     "evalue": "nome_sobrenome() missing 1 required positional argument: 'Unome'",
     "output_type": "error",
     "traceback": [
      "\u001b[31m---------------------------------------------------------------------------\u001b[39m",
      "\u001b[31mTypeError\u001b[39m                                 Traceback (most recent call last)",
      "\u001b[36mCell\u001b[39m\u001b[36m \u001b[39m\u001b[32mIn[8]\u001b[39m\u001b[32m, line 1\u001b[39m\n\u001b[32m----> \u001b[39m\u001b[32m1\u001b[39m \u001b[43mnome_sobrenome\u001b[49m\u001b[43m(\u001b[49m\u001b[33;43m\"\u001b[39;49m\u001b[33;43mWeberson\u001b[39;49m\u001b[33;43m\"\u001b[39;49m\u001b[43m)\u001b[49m\n",
      "\u001b[31mTypeError\u001b[39m: nome_sobrenome() missing 1 required positional argument: 'Unome'"
     ]
    }
   ],
   "source": [
    "nome_sobrenome(\"Weberson\")"
   ]
  },
  {
   "cell_type": "code",
   "execution_count": 10,
   "id": "06cbec98",
   "metadata": {},
   "outputs": [
    {
     "name": "stdout",
     "output_type": "stream",
     "text": [
      "A criança mais velha é Weberson\n"
     ]
    }
   ],
   "source": [
    "# Funcao com vários argumentos.\n",
    "def nome_sobrenome(*kids):\n",
    "    print(\"A criança mais velha é \" + kids[1])\n",
    "nome_sobrenome(\"Emilly\", \"Weberson\", \"Antonio\")"
   ]
  },
  {
   "cell_type": "code",
   "execution_count": 17,
   "id": "51308261",
   "metadata": {},
   "outputs": [
    {
     "name": "stdout",
     "output_type": "stream",
     "text": [
      "Tomate\n",
      "Apple\n",
      "Cachorro\n"
     ]
    }
   ],
   "source": [
    "# Isso é uma função que vai representar f(x) = 2x + 1\n",
    "def funcao(alimento):\n",
    "    for x in alimento:\n",
    "       print(x)\n",
    "       \n",
    "frutas = (\"Tomate\" , \"Apple\" , \"Cachorro\")\n",
    "funcao(frutas)"
   ]
  },
  {
   "cell_type": "code",
   "execution_count": 24,
   "id": "fa703058",
   "metadata": {},
   "outputs": [
    {
     "data": {
      "text/plain": [
       "402387260077093773543702433923003985719374864210714632543799910429938512398629020592044208486969404800479988610197196058631666872994808558901323829669944590997424504087073759918823627727188732519779505950995276120874975462497043601418278094646496291056393887437886487337119181045825783647849977012476632889835955735432513185323958463075557409114262417474349347553428646576611667797396668820291207379143853719588249808126867838374559731746136085379534524221586593201928090878297308431392844403281231558611036976801357304216168747609675871348312025478589320767169132448426236131412508780208000261683151027341827977704784635868170164365024153691398281264810213092761244896359928705114964975419909342221566832572080821333186116811553615836546984046708975602900950537616475847728421889679646244945160765353408198901385442487984959953319101723355556602139450399736280750137837615307127761926849034352625200015888535147331611702103968175921510907788019393178114194545257223865541461062892187960223838971476088506276862967146674697562911234082439208160153780889893964518263243671616762179168909779911903754031274622289988005195444414282012187361745992642956581746628302955570299024324153181617210465832036786906117260158783520751516284225540265170483304226143974286933061690897968482590125458327168226458066526769958652682272807075781391858178889652208164348344825993266043367660176999612831860788386150279465955131156552036093988180612138558600301435694527224206344631797460594682573103790084024432438465657245014402821885252470935190620929023136493273497565513958720559654228749774011413346962715422845862377387538230483865688976461927383814900140767310446640259899490222221765904339901886018566526485061799702356193897017860040811889729918311021171229845901641921068884387121855646124960798722908519296819372388642614839657382291123125024186649353143970137428531926649875337218940694281434118520158014123344828015051399694290153483077644569099073152433278288269864602789864321139083506217095002597389863554277196742822248757586765752344220207573630569498825087968928162753848863396909959826280956121450994871701244516461260379029309120889086942028510640182154399457156805941872748998094254742173582401063677404595741785160829230135358081840096996372524230560855903700624271243416909004153690105933983835777939410970027753472000000000000000000000000000000000000000000000000000000000000000000000000000000000000000000000000000000000000000000000000000000000000000000000000000000000000000000000000000000000000000000000000000000000000000000000000000000000000000000000000000000000"
      ]
     },
     "execution_count": 24,
     "metadata": {},
     "output_type": "execute_result"
    }
   ],
   "source": [
    "def fatorial(x):\n",
    "    if x < 0:\n",
    "        print (\"1 Não tem ou pamonha!\")\n",
    "    elif x == 0:\n",
    "        return 1\n",
    "    else: \n",
    "        fat = 1\n",
    "        while( x > 1 ):\n",
    "            fat *= x\n",
    "            x -= 1\n",
    "        return fat\n",
    "x = int(input(\"Digite um número: \"))\n",
    "fatorial(x)        "
   ]
  },
  {
   "cell_type": "code",
   "execution_count": 33,
   "id": "725e068f",
   "metadata": {},
   "outputs": [
    {
     "name": "stdout",
     "output_type": "stream",
     "text": [
      "O jogador 10 fez 1 gols\n"
     ]
    }
   ],
   "source": [
    "# Criando a funcção ficha()\n",
    "def ficha( jogador = \"Desconhecido\" , gol = 0):\n",
    "    print(\"O jogador\" , jogador , \"fez\" , gol , \"gols\")\n",
    "name = input(\"O piloto de aviao: \")\n",
    "gol = input(\"Quantos gols o piloto fez: \")\n",
    "if gol.isnumeric():\n",
    "    gol = int(gol)\n",
    "else:\n",
    "    gol = 0\n",
    "if name.strip() == \"\":\n",
    "    ficha(gol = gol)\n",
    "else:\n",
    "    ficha(name, gol)\n",
    "    "
   ]
  },
  {
   "cell_type": "code",
   "execution_count": 34,
   "id": "d5c1ad4c",
   "metadata": {},
   "outputs": [
    {
     "data": {
      "text/plain": [
       "25"
      ]
     },
     "execution_count": 34,
     "metadata": {},
     "output_type": "execute_result"
    }
   ],
   "source": [
    "potencia = lambda x : x ** 2\n",
    "potencia(5)"
   ]
  },
  {
   "cell_type": "code",
   "execution_count": 38,
   "id": "8ac273a3",
   "metadata": {},
   "outputs": [
    {
     "name": "stdout",
     "output_type": "stream",
     "text": [
      "As raízes são: x'  -1.7979589711327115 , e x'':  17.79795897113271\n"
     ]
    }
   ],
   "source": [
    "# Função raízes de uma equação do segundo grau.\n",
    "def raizes( a , b, c ):\n",
    "    delta = b ** 2 - 4 * a * c\n",
    "    if delta < 0:\n",
    "        print(\"A equação não tem raizes reais\")\n",
    "    else: \n",
    "        x1 = (- b + delta ** ( 1 / 2 )) / 2 * a\n",
    "        x2 = (- b - delta ** ( 1 / 2 )) / 2 * a\n",
    "        print(\"As raízes são: x' \" , x1 , \", e x'': \" , x2)\n",
    "a = int(input(\"Digite o valor do coeficiente a: \"))\n",
    "b = int(input(\"Digite o valor do coeficiente b: \"))\n",
    "c = int(input(\"Digite o valor do coeficiente c: \"))\n",
    "raizes(a, b, c)"
   ]
  }
 ],
 "metadata": {
  "kernelspec": {
   "display_name": "Python 3",
   "language": "python",
   "name": "python3"
  },
  "language_info": {
   "codemirror_mode": {
    "name": "ipython",
    "version": 3
   },
   "file_extension": ".py",
   "mimetype": "text/x-python",
   "name": "python",
   "nbconvert_exporter": "python",
   "pygments_lexer": "ipython3",
   "version": "3.13.2"
  }
 },
 "nbformat": 4,
 "nbformat_minor": 5
}
