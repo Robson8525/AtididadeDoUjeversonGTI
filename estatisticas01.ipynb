{
 "cells": [
  {
   "cell_type": "code",
   "execution_count": 22,
   "id": "872c3363",
   "metadata": {},
   "outputs": [],
   "source": [
    "import statistics as st"
   ]
  },
  {
   "cell_type": "code",
   "execution_count": null,
   "id": "bce9ae9e",
   "metadata": {},
   "outputs": [
    {
     "data": {
      "text/plain": [
       "20"
      ]
     },
     "execution_count": 9,
     "metadata": {},
     "output_type": "execute_result"
    }
   ],
   "source": [
    "valores = [2, 4, 6, 3, 2, 1, 4, 3, 5, 2, 1, 1, 4, 0, 2, 2, 5, 2, 2, 1]\n",
    "qtde = len(valores)\n",
    "qtde\n"
   ]
  },
  {
   "cell_type": "code",
   "execution_count": 10,
   "id": "279e354e",
   "metadata": {},
   "outputs": [
    {
     "data": {
      "text/plain": [
       "[0, 1, 1, 1, 1, 2, 2, 2, 2, 2, 2, 2, 3, 3, 4, 4, 4, 5, 5, 6]"
      ]
     },
     "execution_count": 10,
     "metadata": {},
     "output_type": "execute_result"
    }
   ],
   "source": [
    "#Colocar os valores em ordem crescente\n",
    "valores.sort()\n",
    "valores\n"
   ]
  },
  {
   "cell_type": "code",
   "execution_count": 12,
   "id": "d8a65077",
   "metadata": {},
   "outputs": [
    {
     "data": {
      "text/plain": [
       "2.6"
      ]
     },
     "execution_count": 12,
     "metadata": {},
     "output_type": "execute_result"
    }
   ],
   "source": [
    "#Calcular a media\n",
    "media = sum(valores) / qtde\n",
    "media"
   ]
  },
  {
   "cell_type": "code",
   "execution_count": 14,
   "id": "53e04746",
   "metadata": {},
   "outputs": [
    {
     "data": {
      "text/plain": [
       "22.0"
      ]
     },
     "execution_count": 14,
     "metadata": {},
     "output_type": "execute_result"
    }
   ],
   "source": [
    "idade = [19 , 20 , 27 , 27 , 17 ]\n",
    "mediaIdade = sum(idade)/len(idade)\n",
    "mediaIdade\n"
   ]
  },
  {
   "cell_type": "code",
   "execution_count": 23,
   "id": "6b38a36e",
   "metadata": {},
   "outputs": [
    {
     "data": {
      "text/plain": [
       "2.6"
      ]
     },
     "execution_count": 23,
     "metadata": {},
     "output_type": "execute_result"
    }
   ],
   "source": [
    "mediaValores = st.mean(valores)\n",
    "mediaValores"
   ]
  },
  {
   "cell_type": "code",
   "execution_count": 24,
   "id": "2982649c",
   "metadata": {},
   "outputs": [
    {
     "data": {
      "text/plain": [
       "22"
      ]
     },
     "execution_count": 24,
     "metadata": {},
     "output_type": "execute_result"
    }
   ],
   "source": [
    "meanIdades = st.mean(idade)\n",
    "meanIdades"
   ]
  },
  {
   "cell_type": "code",
   "execution_count": 26,
   "id": "457799a7",
   "metadata": {},
   "outputs": [
    {
     "data": {
      "text/plain": [
       "28"
      ]
     },
     "execution_count": 26,
     "metadata": {},
     "output_type": "execute_result"
    }
   ],
   "source": [
    "idade.append(43)\n",
    "meanIdade = st.mean(idade)\n",
    "meanIdade"
   ]
  },
  {
   "cell_type": "code",
   "execution_count": 27,
   "id": "a1d62b85",
   "metadata": {},
   "outputs": [
    {
     "data": {
      "text/plain": [
       "2"
      ]
     },
     "execution_count": 27,
     "metadata": {},
     "output_type": "execute_result"
    }
   ],
   "source": [
    "modaValores = st.mode(valores)\n",
    "modaValores"
   ]
  },
  {
   "cell_type": "code",
   "execution_count": 28,
   "id": "3c8fd155",
   "metadata": {},
   "outputs": [
    {
     "data": {
      "text/plain": [
       "2.0"
      ]
     },
     "execution_count": 28,
     "metadata": {},
     "output_type": "execute_result"
    }
   ],
   "source": [
    "medianaValores = st.median(valores)\n",
    "medianaValores"
   ]
  },
  {
   "cell_type": "code",
   "execution_count": 29,
   "id": "02cf9f30",
   "metadata": {},
   "outputs": [
    {
     "name": "stdout",
     "output_type": "stream",
     "text": [
      "A média das notas é: 7, Mediana: 7, Moda: 6\n"
     ]
    }
   ],
   "source": [
    "#Média das notas dos alunos, slide 56\n",
    "notas = [9, 9, 8, 8, 4, 4, 6, 6, 6, 7, 10]\n",
    "nediaNotas = st.mean(notas)\n",
    "medianaNotas = st.median(notas)\n",
    "modaNotas = st.mode(notas)\n",
    "\n",
    "print(f'A média das notas é: {nediaNotas}, Mediana: {medianaNotas}, Moda: {modaNotas}')\n",
    "#Desvio padrão"
   ]
  },
  {
   "cell_type": "code",
   "execution_count": null,
   "id": "6e50049f",
   "metadata": {},
   "outputs": [],
   "source": []
  }
 ],
 "metadata": {
  "kernelspec": {
   "display_name": "Python 3",
   "language": "python",
   "name": "python3"
  },
  "language_info": {
   "codemirror_mode": {
    "name": "ipython",
    "version": 3
   },
   "file_extension": ".py",
   "mimetype": "text/x-python",
   "name": "python",
   "nbconvert_exporter": "python",
   "pygments_lexer": "ipython3",
   "version": "3.13.2"
  }
 },
 "nbformat": 4,
 "nbformat_minor": 5
}
