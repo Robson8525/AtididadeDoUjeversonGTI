{
 "cells": [
  {
   "cell_type": "code",
   "execution_count": 1,
   "id": "e8586788-a336-4357-a221-5e4c24f90cc7",
   "metadata": {},
   "outputs": [],
   "source": [
    "def FuncaoUm (Nome):\n",
    "    print(\"Hello Word %s\" %(Nome))"
   ]
  },
  {
   "cell_type": "code",
   "execution_count": 2,
   "id": "dccebbff-ea6a-4718-bdc3-19ee6762c7af",
   "metadata": {},
   "outputs": [
    {
     "name": "stdin",
     "output_type": "stream",
     "text": [
      "Digite seu nome:  jk\n"
     ]
    }
   ],
   "source": [
    "x = input(\"Digite seu nome: \")"
   ]
  },
  {
   "cell_type": "code",
   "execution_count": 3,
   "id": "ab4ec86e-7cc7-46de-9cc8-ded9e8df37c6",
   "metadata": {},
   "outputs": [
    {
     "name": "stdin",
     "output_type": "stream",
     "text": [
      "Digite seu nome:  jk\n"
     ]
    },
    {
     "name": "stdout",
     "output_type": "stream",
     "text": [
      "Hello Word jk\n"
     ]
    }
   ],
   "source": [
    "FuncaoUm(input(\"Digite seu nome: \"))"
   ]
  },
  {
   "cell_type": "code",
   "execution_count": 4,
   "id": "e358e228-7f46-42bc-b9a8-7fc916edd4af",
   "metadata": {},
   "outputs": [
    {
     "name": "stdout",
     "output_type": "stream",
     "text": [
      "Hello Word jk\n"
     ]
    }
   ],
   "source": [
    "FuncaoUm(x)"
   ]
  },
  {
   "cell_type": "code",
   "execution_count": 5,
   "id": "b1ca774c-ff6d-4830-9dbe-436f582fab17",
   "metadata": {},
   "outputs": [],
   "source": [
    "def FuncaoDois():\n",
    "    for i in range ( 0 , 5 ):\n",
    "        print(\"Número: \" + str(i))"
   ]
  },
  {
   "cell_type": "code",
   "execution_count": 6,
   "id": "38d28e28-9900-4324-8c77-41b75b6c06f6",
   "metadata": {},
   "outputs": [
    {
     "name": "stdout",
     "output_type": "stream",
     "text": [
      "Número: 0\n",
      "Número: 1\n",
      "Número: 2\n",
      "Número: 3\n",
      "Número: 4\n"
     ]
    }
   ],
   "source": [
    "FuncaoDois()"
   ]
  },
  {
   "cell_type": "code",
   "execution_count": 7,
   "id": "ad553d2e-1a98-4df4-8b68-28e5e44bbf7f",
   "metadata": {},
   "outputs": [],
   "source": [
    "def notas():\n",
    "    n1 = float(input(\"Digite a N1\"))\n",
    "    n2 = float(input(\"Digite a N2\"))\n",
    "    n3 = float(input(\"Digite a N3\"))\n",
    "\n",
    "    media = ( n1 + n2 + n3) /3\n",
    "    print(\"Sua media é:\" , media)\n",
    "    "
   ]
  },
  {
   "cell_type": "code",
   "execution_count": 10,
   "id": "8530a877-db0b-4d91-96a3-28df12507d3a",
   "metadata": {},
   "outputs": [
    {
     "name": "stdin",
     "output_type": "stream",
     "text": [
      "Digite a N1 2\n",
      "Digite a N2 3\n",
      "Digite a N3 4\n"
     ]
    },
    {
     "name": "stdout",
     "output_type": "stream",
     "text": [
      "Sua media é: 3.0\n"
     ]
    }
   ],
   "source": [
    "notas()"
   ]
  },
  {
   "cell_type": "code",
   "execution_count": 11,
   "id": "483f4042-120b-460e-879c-c4e2c5d40c8e",
   "metadata": {},
   "outputs": [],
   "source": [
    "import statistics as st\n",
    "def notas1():\n",
    "    n1 = float(input(\"Digite a N1\"))\n",
    "    n2 = float(input(\"Digite a N2\"))\n",
    "    n3 = float(input(\"Digite a N3\"))\n",
    "\n",
    "    valor = [n1,n2,n3]\n",
    "    \n",
    "    media = round(st.mean(valor), 1)\n",
    "    print(\"Sua media é:\" , media)"
   ]
  },
  {
   "cell_type": "code",
   "execution_count": 13,
   "id": "47d80690-c3a7-4a85-929a-44cc6a812858",
   "metadata": {},
   "outputs": [
    {
     "name": "stdin",
     "output_type": "stream",
     "text": [
      "Digite a N1 2\n",
      "Digite a N2 3\n",
      "Digite a N3 4\n"
     ]
    },
    {
     "name": "stdout",
     "output_type": "stream",
     "text": [
      "Sua media é: 3.0\n"
     ]
    }
   ],
   "source": [
    "notas1()"
   ]
  },
  {
   "cell_type": "code",
   "execution_count": 14,
   "id": "8e8394b1-fae8-4f15-82fa-f3b70f99de44",
   "metadata": {},
   "outputs": [],
   "source": [
    "import statistics as st\n",
    "def notas2():\n",
    "    n1 = float(input(\"Digite a N1\"))\n",
    "    n2 = float(input(\"Digite a N2\"))\n",
    "    n3 = float(input(\"Digite a N3\"))\n",
    "\n",
    "    valor = [n1,n2,n3]\n",
    "    \n",
    "    media = round(st.mean(valor), 1)\n",
    "    print(\"Sua media é:\" , media)\n",
    "    return media"
   ]
  },
  {
   "cell_type": "code",
   "execution_count": 27,
   "id": "ebd731fd-13b0-418e-b001-b7d703cf7da8",
   "metadata": {},
   "outputs": [],
   "source": [
    "def resultado(x):\n",
    "    x = notas2()\n",
    "    if x >= 6:\n",
    "        print(\"Aprovado!\")\n",
    "    elif x > 4:\n",
    "        print(\"Recuperação!\")\n",
    "    else:\n",
    "        print(\"Retido!\")"
   ]
  },
  {
   "cell_type": "code",
   "execution_count": 30,
   "id": "faaa3908-225d-411c-9704-f72ea6059709",
   "metadata": {},
   "outputs": [
    {
     "name": "stdin",
     "output_type": "stream",
     "text": [
      "Digite a N1 5\n",
      "Digite a N2 5\n",
      "Digite a N3 5\n"
     ]
    },
    {
     "name": "stdout",
     "output_type": "stream",
     "text": [
      "Sua media é: 5.0\n",
      "Recuperação!\n"
     ]
    }
   ],
   "source": [
    "resultado(x)"
   ]
  },
  {
   "cell_type": "code",
   "execution_count": 31,
   "id": "2d38d9c2-bd8e-4533-ac32-64128b4db9c6",
   "metadata": {},
   "outputs": [],
   "source": [
    "#Variavel Global\n",
    "varGlobal = 10\n",
    "def multiplica (n1 , n2):\n",
    "    varGlobal = n1 * n2\n",
    "    return varGlobal"
   ]
  },
  {
   "cell_type": "code",
   "execution_count": 32,
   "id": "7cc0b83c-96ef-48ba-a73f-a62dfb8967fd",
   "metadata": {},
   "outputs": [
    {
     "data": {
      "text/plain": [
       "15"
      ]
     },
     "execution_count": 32,
     "metadata": {},
     "output_type": "execute_result"
    }
   ],
   "source": [
    "multiplica(3,5)"
   ]
  },
  {
   "cell_type": "code",
   "execution_count": 34,
   "id": "ca34983e-17a8-4b34-ab57-24d25f6e6e95",
   "metadata": {},
   "outputs": [],
   "source": [
    "#Variavel local\n",
    "varGlobal = 10\n",
    "def divide(n1 , n2):\n",
    "    varLocal = n1/n2\n",
    "    return varLocal"
   ]
  },
  {
   "cell_type": "code",
   "execution_count": 35,
   "id": "bd9d4793-a1ff-4f25-95fc-07ee51da21f7",
   "metadata": {},
   "outputs": [
    {
     "data": {
      "text/plain": [
       "34.0"
      ]
     },
     "execution_count": 35,
     "metadata": {},
     "output_type": "execute_result"
    }
   ],
   "source": [
    "divide(102 , 3)"
   ]
  },
  {
   "cell_type": "code",
   "execution_count": 36,
   "id": "fafd5130-c953-4914-9afd-014362c0b130",
   "metadata": {
    "scrolled": true
   },
   "outputs": [
    {
     "ename": "NameError",
     "evalue": "name 'varLocal' is not defined",
     "output_type": "error",
     "traceback": [
      "\u001b[31m---------------------------------------------------------------------------\u001b[39m",
      "\u001b[31mNameError\u001b[39m                                 Traceback (most recent call last)",
      "\u001b[36mCell\u001b[39m\u001b[36m \u001b[39m\u001b[32mIn[36]\u001b[39m\u001b[32m, line 1\u001b[39m\n\u001b[32m----> \u001b[39m\u001b[32m1\u001b[39m \u001b[43mvarLocal\u001b[49m\n",
      "\u001b[31mNameError\u001b[39m: name 'varLocal' is not defined"
     ]
    }
   ],
   "source": [
    "varLocal"
   ]
  },
  {
   "cell_type": "code",
   "execution_count": 38,
   "id": "a588375b-304f-433a-81ab-3f3644df6fa1",
   "metadata": {},
   "outputs": [],
   "source": [
    "def splitString(text):\n",
    "    return text.split(\"Esta função será bastante útil para separar grandes volumes de dados.\")\n",
    "    print(splitString(text))"
   ]
  },
  {
   "cell_type": "code",
   "execution_count": null,
   "id": "95c83a5d-f9c1-4af9-9931-913307f08afe",
   "metadata": {},
   "outputs": [],
   "source": []
  }
 ],
 "metadata": {
  "kernelspec": {
   "display_name": "Python 3 (ipykernel)",
   "language": "python",
   "name": "python3"
  },
  "language_info": {
   "codemirror_mode": {
    "name": "ipython",
    "version": 3
   },
   "file_extension": ".py",
   "mimetype": "text/x-python",
   "name": "python",
   "nbconvert_exporter": "python",
   "pygments_lexer": "ipython3",
   "version": "3.13.2"
  }
 },
 "nbformat": 4,
 "nbformat_minor": 5
}
