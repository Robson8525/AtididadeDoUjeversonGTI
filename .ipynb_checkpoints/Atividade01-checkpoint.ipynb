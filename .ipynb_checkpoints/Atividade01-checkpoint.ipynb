{
 "cells": [
  {
   "cell_type": "code",
   "execution_count": 1,
   "id": "d97ee453-a04e-4370-9871-3cb21956aa47",
   "metadata": {},
   "outputs": [
    {
     "name": "stdout",
     "output_type": "stream",
     "text": [
      "<class 'str'>\n"
     ]
    }
   ],
   "source": [
    "print(type(\"Python\"))"
   ]
  },
  {
   "cell_type": "code",
   "execution_count": 2,
   "id": "ce2f2d48-8655-442b-8dbc-d83d787e74ce",
   "metadata": {
    "scrolled": true
   },
   "outputs": [
    {
     "name": "stdin",
     "output_type": "stream",
     "text": [
      "Nome 23\n",
      "Idade 23\n"
     ]
    },
    {
     "name": "stdout",
     "output_type": "stream",
     "text": [
      "Fala mano, 23 Vocé tem quantos anos? 23\n"
     ]
    }
   ],
   "source": [
    "nome = input(\"Nome\")\n",
    "idade = input(\"Idade\")\n",
    "print (\"Fala mano, \" + nome + \" Vocé tem quantos anos? \" + idade)"
   ]
  },
  {
   "cell_type": "code",
   "execution_count": 3,
   "id": "73070c0c-ef5e-4476-97e2-ca60cca2dff1",
   "metadata": {},
   "outputs": [
    {
     "name": "stdin",
     "output_type": "stream",
     "text": [
      "Digite seu número:  23\n",
      "Digite mais um:  23\n"
     ]
    },
    {
     "name": "stdout",
     "output_type": "stream",
     "text": [
      "Soma 46.0\n",
      "Subtração 0.0\n",
      "Multiplicação 529.0\n",
      "Divisão 1.0\n"
     ]
    }
   ],
   "source": [
    "num1 = float(input(\"Digite seu número: \"))\n",
    "num2 = float(input(\"Digite mais um: \"))\n",
    "soma = num1 + num2\n",
    "subtração = num1 - num2\n",
    "multiplicação = num1 * num2\n",
    "divisão = num1 / num2\n",
    "print(\"Soma\", soma)\n",
    "print(\"Subtração\", subtração)\n",
    "print(\"Multiplicação\", multiplicação)\n",
    "print(\"Divisão\", divisão)"
   ]
  },
  {
   "cell_type": "code",
   "execution_count": 4,
   "id": "79510c48-bcc2-4131-b616-88bb8c68a907",
   "metadata": {},
   "outputs": [
    {
     "name": "stdin",
     "output_type": "stream",
     "text": [
      "Digite seu número, porra:  5\n",
      "Digite mais um, carai:  6\n"
     ]
    },
    {
     "name": "stdout",
     "output_type": "stream",
     "text": [
      "Escolha a operação: +, -, *, /\n"
     ]
    },
    {
     "name": "stdin",
     "output_type": "stream",
     "text": [
      "Digite a operação desejada:  +\n"
     ]
    },
    {
     "name": "stdout",
     "output_type": "stream",
     "text": [
      "Resultado: 11.0\n"
     ]
    }
   ],
   "source": [
    "num1 = float(input(\"Digite seu número, porra: \"))\n",
    "num2 = float(input(\"Digite mais um, carai: \"))\n",
    "\n",
    "print(\"Escolha a operação: +, -, *, /\")\n",
    "operação = input(\"Digite a operação desejada: \")\n",
    "\n",
    "if operação == \"+\":\n",
    "    resultado = num1 + num2\n",
    "elif operação == \"-\":\n",
    "    resultado = num1 - num2\n",
    "elif operaão == \"*\":\n",
    "    resultado = num1 * num2\n",
    "elif operação == \"/\":\n",
    "    resultado = num1 / num2\n",
    "    if num2 == 0:\n",
    "        resultado = \"Errou carai, tem como por zero não.\"\n",
    "    else:\n",
    "        resultado = num1 / num2\n",
    "else:\n",
    "    resultado = \"Operação não validou!\"\n",
    "print(\"Resultado:\", resultado)"
   ]
  },
  {
   "cell_type": "markdown",
   "id": "c61645a4-c074-4e0b-a508-decbe7eff14c",
   "metadata": {},
   "source": [
    "## "
   ]
  }
 ],
 "metadata": {
  "kernelspec": {
   "display_name": "Python 3 (ipykernel)",
   "language": "python",
   "name": "python3"
  },
  "language_info": {
   "codemirror_mode": {
    "name": "ipython",
    "version": 3
   },
   "file_extension": ".py",
   "mimetype": "text/x-python",
   "name": "python",
   "nbconvert_exporter": "python",
   "pygments_lexer": "ipython3",
   "version": "3.13.2"
  }
 },
 "nbformat": 4,
 "nbformat_minor": 5
}
